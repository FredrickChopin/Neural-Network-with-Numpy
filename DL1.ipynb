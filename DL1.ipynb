{
 "cells": [
  {
   "cell_type": "markdown",
   "metadata": {},
   "source": [
    "# Imports"
   ]
  },
  {
   "cell_type": "code",
   "execution_count": 242,
   "metadata": {},
   "outputs": [],
   "source": [
    "import numpy as np\n",
    "import matplotlib.pyplot as plt"
   ]
  },
  {
   "cell_type": "markdown",
   "metadata": {
    "jp-MarkdownHeadingCollapsed": true,
    "tags": []
   },
   "source": [
    "# Activation functions"
   ]
  },
  {
   "cell_type": "code",
   "execution_count": 243,
   "metadata": {},
   "outputs": [],
   "source": [
    "class ActivationFunction:\n",
    "    def __init__(self) -> None:\n",
    "        pass\n",
    "\n",
    "    def __call__(self, x: np.ndarray) -> np.ndarray:\n",
    "        raise NotImplemented\n",
    "\n",
    "    def compute_derivative(self, x: np.ndarray) -> np.ndarray:\n",
    "        raise NotImplemented"
   ]
  },
  {
   "cell_type": "code",
   "execution_count": 244,
   "metadata": {},
   "outputs": [],
   "source": [
    "class ReLU(ActivationFunction):\n",
    "    def __call__(self, x: np.ndarray) -> np.ndarray:\n",
    "        y = np.abs(x)\n",
    "        return 1/2*(x+y)\n",
    "    def OneCall(self, x: np.ndarray) -> np.ndarray:\n",
    "        if x > 0:\n",
    "            return 1\n",
    "        if x == 0:\n",
    "            return 1/2\n",
    "        return 0\n",
    "    def compute_derivative(self, x: np.ndarray) -> np.ndarray:\n",
    "        retarray = np.vectorize(self.OneCall)\n",
    "        return retarray(x)"
   ]
  },
  {
   "cell_type": "code",
   "execution_count": 245,
   "metadata": {},
   "outputs": [],
   "source": [
    "class Linear(ActivationFunction):\n",
    "    def __init__(self, k : float):\n",
    "        self.k = k\n",
    "    def __call__(self, x: np.ndarray) -> np.ndarray:\n",
    "        return self.k*x\n",
    "    def compute_derivative(self, x: np.ndarray) -> np.ndarray:\n",
    "        return self.k * np.ones_like(x)"
   ]
  },
  {
   "cell_type": "code",
   "execution_count": 246,
   "metadata": {},
   "outputs": [],
   "source": [
    "class SELU(ActivationFunction):\n",
    "    def _init_(self, alpha : float, gamma : float):\n",
    "        self.alpha = alpha\n",
    "        self.gamma = gamma\n",
    "    def OneCall(self, x: np.ndarray) -> np.ndarray:\n",
    "        if x > 0:\n",
    "            return self.gamma*x\n",
    "        return self.gamma*self.alpha*(np.exp(x) - 1)\n",
    "    def _call_(self, x: np.ndarray) -> np.ndarray:\n",
    "        retarray = np.vectorize(self.OneCall)\n",
    "        return retarray(x)\n",
    "    def compute_derivative(self, x: np.ndarray) -> np.ndarray:\n",
    "        return self.gamma * self.alpha * np.exp(x)"
   ]
  },
  {
   "cell_type": "code",
   "execution_count": 247,
   "metadata": {},
   "outputs": [],
   "source": [
    "class ELU(SELU):\n",
    "    def __init__(self, alpha):\n",
    "        super().__init__(alpha, 1)"
   ]
  },
  {
   "cell_type": "code",
   "execution_count": 248,
   "metadata": {},
   "outputs": [],
   "source": [
    "class Sigmoid(ActivationFunction):\n",
    "    def __init__(self, c):\n",
    "        self.c = c\n",
    "    def __call__(self, x: np.ndarray) -> np.ndarray:\n",
    "        return x / (1 + np.exp(-self.c*x))\n",
    "    def one_dimensional_derivative(self, x: np.ndarray) -> np.ndarray:\n",
    "        return (1 + np.exp(-self.c*x) + self.c * np.exp(-self.c/x) * x ) / ((1 + np.exp(-self.c * x))**2)"
   ]
  },
  {
   "cell_type": "code",
   "execution_count": 249,
   "metadata": {},
   "outputs": [],
   "source": [
    "class SLU(Sigmoid):\n",
    "    def __init__(self):\n",
    "        super().__init__(1)"
   ]
  },
  {
   "cell_type": "code",
   "execution_count": 250,
   "metadata": {},
   "outputs": [],
   "source": [
    "class Softplus(ActivationFunction):\n",
    "    def __call__(self, x: np.ndarray) -> np.ndarray:\n",
    "        return np.log(1 + np.exp(x))\n",
    "    def compute_derivative(self, x: np.ndarray) -> np.ndarray:\n",
    "        return np.exp(x) / (1 + np.exp(x))"
   ]
  },
  {
   "cell_type": "code",
   "execution_count": 251,
   "metadata": {},
   "outputs": [],
   "source": [
    "class Gaussian(ActivationFunction):\n",
    "    def __call__(self, x: np.ndarray) -> np.ndarray:\n",
    "        return np.exp(-x**2)\n",
    "    def compute_derivative(self, x: np.ndarray) -> np.ndarray:\n",
    "        return -2 * x * np.exp(-x**2)"
   ]
  },
  {
   "cell_type": "code",
   "execution_count": 252,
   "metadata": {},
   "outputs": [],
   "source": [
    "class Softmax(ActivationFunction):\n",
    "    def __call__(self, x: np.ndarray) -> np.ndarray:\n",
    "        exp_z = np.exp(x)\n",
    "        return exp_z/exp_z.sum()"
   ]
  },
  {
   "cell_type": "code",
   "execution_count": 253,
   "metadata": {},
   "outputs": [],
   "source": [
    "class Sigma(ActivationFunction):\n",
    "    def __init__(self, c):\n",
    "        self.c = c\n",
    "    def __call__(self, x):\n",
    "        return 1 / (1 + np.exp(-self.c*x))\n",
    "    def compute_derivative(self, x: np.ndarray) -> np.ndarray:\n",
    "        return self.c*np.exp(-self.c*x) / ((1 + np.exp(-self.c*x))**2)"
   ]
  },
  {
   "cell_type": "code",
   "execution_count": 254,
   "metadata": {},
   "outputs": [],
   "source": [
    "class Tanh(ActivationFunction):\n",
    "    def __call__(self, x: np.ndarray) -> np.ndarray:\n",
    "        return np.tanh(x)\n",
    "    def compute_derivative(self, x: np.ndarray) -> np.ndarray:\n",
    "        return 1 / (np.cosh(x)**2)"
   ]
  },
  {
   "cell_type": "markdown",
   "metadata": {},
   "source": [
    "# Loss functions (Cost functions)"
   ]
  },
  {
   "cell_type": "code",
   "execution_count": 255,
   "metadata": {},
   "outputs": [],
   "source": [
    "class LossFunction:\n",
    "    def __init__(self, target: np.ndarray = None) -> None:\n",
    "        '''\n",
    "        Input: 'target' is vector (or matrix) of targets. In case of matrix target, each row defines an individual target.  \n",
    "        '''\n",
    "        self.target = target\n",
    "\n",
    "    def __call__(self, y: np.ndarray) -> float:\n",
    "        raise NotImplemented\n",
    "\n",
    "    '''\n",
    "    In the following derivation functions, the returned value is the direvative with respect to y (not wrt to the whole backpropagation). \n",
    "    '''\n",
    "\n",
    "    def partial_derivative(self,outputs,i) -> float:\n",
    "        raise NotImplemented\n",
    "\n",
    "    def gradient(self, outputs) -> np.ndarray:\n",
    "        grad = np.zeros(self.target.size)\n",
    "        for i in range(1 , outputs.size + 1):\n",
    "            grad[i-1] = self.partial_derivative(outputs, i)\n",
    "        return grad"
   ]
  },
  {
   "cell_type": "code",
   "execution_count": 256,
   "metadata": {},
   "outputs": [],
   "source": [
    "class L2Error(LossFunction):\n",
    "    def __call__(self, y: np.ndarray) -> float:\n",
    "        return np.linalg.norm(y - self.target)**2\n",
    "    \n",
    "    def partial_derivative(self,outputs,i) -> float:\n",
    "        return 2 * (outputs[i-1] - self.target[i-1])"
   ]
  },
  {
   "cell_type": "code",
   "execution_count": 257,
   "metadata": {},
   "outputs": [],
   "source": [
    "class SupremumError(LossFunction):\n",
    "    def __call__(self, y: np.ndarray) -> float:\n",
    "        return max(np.abs(y - self.target))\n",
    "    \n",
    "    def partial_derivative(self,outputs,i) -> float:\n",
    "        return 2 * (outputs[i-1] - self.target[i-1])"
   ]
  },
  {
   "cell_type": "code",
   "execution_count": 258,
   "metadata": {},
   "outputs": [],
   "source": [
    "class MSError(LossFunction):\n",
    "    def __call__(self, y: np.ndarray) -> float:\n",
    "        return (sum((y - self.target)**2)) / self.target.shape[0]\n",
    "    \n",
    "    def partial_derivative(self,outputs,i) -> float:\n",
    "        return 2 * (outputs[i-1] - self.target[i-1]) / self.target.shape[0]"
   ]
  },
  {
   "cell_type": "markdown",
   "metadata": {},
   "source": [
    "# Network"
   ]
  },
  {
   "cell_type": "code",
   "execution_count": 259,
   "metadata": {},
   "outputs": [],
   "source": [
    "class DenseLayer:\n",
    "    def __init__(self,shape: tuple, phi: ActivationFunction, W: np.ndarray, B: np.ndarray) -> None:\n",
    "        '''\n",
    "        Creates a dense layer of a given shape.\n",
    "        The tuple shape has two elements: \n",
    "            1- The first one is the number of outputs of the previous layer (the input size if we build the first layer),\n",
    "            2- The second one is the number of outputs of the current layer, i.e. the number of neurons. \n",
    "        '''\n",
    "        self.shape = shape\n",
    "        self.W = W\n",
    "        self.B = B\n",
    "        self.phi = phi\n",
    "\n",
    "    def compute_s(self, x: np.ndarray) -> np.ndarray:\n",
    "        return self.W.T.dot(x) - self.B\n",
    "\n",
    "    def __call__(self, x: np.ndarray) -> np.ndarray:\n",
    "        '''\n",
    "        Input: 'x' is intended to be the output of the previous layer.  \n",
    "        '''\n",
    "        return self.phi(self.compute_s(x))"
   ]
  },
  {
   "cell_type": "code",
   "execution_count": 260,
   "metadata": {},
   "outputs": [],
   "source": [
    "class MultilayerPerceptron:\n",
    "    def __init__(self, input_size: int) -> None:\n",
    "        self.input_size = input_size\n",
    "        self.layers = []\n",
    "        self.gradient_length = 0 #Property which holds the total amount of parameters of the network\n",
    "\n",
    "    def add_dense_layer(self,size: int, phi: ActivationFunction) -> None:\n",
    "        if self.layers == []:\n",
    "            prev_layer_size = self.input_size\n",
    "        else:\n",
    "            prev_layer_size = self.layers[-1].W.shape[1]\n",
    "        shape = (prev_layer_size, size)\n",
    "        a = np.sqrt(1 / (shape[0] + shape[1]))\n",
    "        W = np.random.uniform(-a, a, shape)\n",
    "        B = np.zeros(size)\n",
    "        self.layers.append(DenseLayer(shape, phi, W, B))\n",
    "        self.gradient_length += (prev_layer_size + 1) * size\n",
    "\n",
    "    def forward_computation(self,x : np.ndarray) -> np.ndarray:\n",
    "        '''\n",
    "        The input vector x has to have the same size than self.input_size.  \n",
    "        '''\n",
    "        # Here you have to write yoour implementation. You have to compute all layers successively.   \n",
    "        if not isinstance(x, np.ndarray):\n",
    "            x = np.array([x])\n",
    "        curr_output = x\n",
    "        for layer in self.layers:\n",
    "            curr_output = layer(curr_output)\n",
    "        return curr_output\n",
    "\n",
    "    def outputs_and_s(self, x : np.ndarray) -> list:\n",
    "        outputs = [x]\n",
    "        s_list = []\n",
    "        for layer in self.layers:\n",
    "            last_output = outputs[-1]\n",
    "            new_s = layer.compute_s(last_output)\n",
    "            new_output = layer.phi(new_s)\n",
    "            s_list.append(new_s)\n",
    "            outputs.append(new_output)\n",
    "        return outputs, s_list\n",
    "\n",
    "    def outputs_and_deltas(self,C: LossFunction, x: np.ndarray, target: np.ndarray):\n",
    "        outputs, s_list = self.outputs_and_s(x)\n",
    "        delta_L = C.gradient(outputs[-1]) * self.layers[-1].phi.compute_derivative(s_list[-1])\n",
    "        deltas = [delta_L]\n",
    "        for j in range(len(self.layers) - 2, -1, -1):\n",
    "            curr_layer = self.layers[j]\n",
    "            next_layer = self.layers[j + 1]\n",
    "            old_delta = deltas[-1]\n",
    "            new_delta = curr_layer.phi.compute_derivative(s_list[j]) * (next_layer.W.dot(old_delta))\n",
    "            deltas.append(new_delta)\n",
    "        deltas.reverse()\n",
    "        return outputs, deltas\n",
    "\n",
    "    def backpropagation_gradient(self,C: LossFunction, x: np.ndarray) -> np.ndarray:\n",
    "        # Here you have to write your implementation.\n",
    "        # Don't forget to write a proper initialization scheme for the weights. \n",
    "        outputs, deltas = self.outputs_and_deltas(C, x, C.target)\n",
    "        gradient = np.empty(self.gradient_length)\n",
    "        grad_index = 0\n",
    "        for layer_index, layer in enumerate(self.layers):\n",
    "            weights_shape = layer.shape\n",
    "            rows = weights_shape[0]\n",
    "            cols = weights_shape[1]\n",
    "            for i in range(rows):\n",
    "                for j in range(cols):\n",
    "                    gradient[grad_index] = deltas[layer_index][j] * outputs[layer_index][i]\n",
    "                    grad_index += 1\n",
    "        for layer_index, layer in enumerate(self.layers):\n",
    "            b_length = layer.shape[1]\n",
    "            for j in range(b_length):\n",
    "                gradient[grad_index] = -deltas[layer_index][j]\n",
    "                grad_index += 1\n",
    "        return gradient\n",
    "\n",
    "    def update_parameters(self, new_gradient: np.ndarray):\n",
    "        grad_index = 0\n",
    "        for layer in self.layers:\n",
    "            weights_shape = layer.shape\n",
    "            rows = weights_shape[0]\n",
    "            cols = weights_shape[1]\n",
    "            for i in range(rows):\n",
    "                for j in range(cols):\n",
    "                    layer.W[i,j] += new_gradient[grad_index]\n",
    "                    grad_index += 1\n",
    "        for layer in self.layers:\n",
    "            b_length = layer.shape[1]\n",
    "            for j in range(b_length):\n",
    "                layer.B[j] += new_gradient[grad_index]\n",
    "                grad_index += 1"
   ]
  },
  {
   "cell_type": "markdown",
   "metadata": {},
   "source": [
    "# Optimization"
   ]
  },
  {
   "cell_type": "code",
   "execution_count": 261,
   "metadata": {},
   "outputs": [],
   "source": [
    "class Optimizer:\n",
    "    def compute_update(self, gradient_computer, x: np.ndarray):\n",
    "        raise NotImplemented"
   ]
  },
  {
   "cell_type": "code",
   "execution_count": 262,
   "metadata": {},
   "outputs": [],
   "source": [
    "class StochasticGradientDescent:\n",
    "    def __init__(self, optimizer: Optimizer,network: MultilayerPerceptron, C: LossFunction, batch_size: int = 32, epochs:int = 10) -> None:\n",
    "        self.optimizer = optimizer\n",
    "        self.network = network\n",
    "        self.C = C\n",
    "        self.batch_size = batch_size\n",
    "        self.epochs = epochs\n",
    "\n",
    "    def gradient_of_certain_samples(self, indices, inputs, targets):\n",
    "        gradient = np.zeros(self.network.gradient_length)\n",
    "        for index in indices:\n",
    "            self.C.target = targets[index]\n",
    "            gradient += self.network.backpropagation_gradient(self.C, inputs[index])\n",
    "        gradient /= len(indices)\n",
    "        return gradient\n",
    "\n",
    "    def __call__(self, inputs: np.ndarray, targets: np.ndarray):\n",
    "        '''\n",
    "        Inputs: \n",
    "            'inputs' is a matrix, whose rows are single inputs,\n",
    "            'targets' is a matrix, whose rows are single targets.   \n",
    "        '''\n",
    "        # Write your implementation.\n",
    "        number_of_samples = len(inputs) \n",
    "        for epoch in range(self.epochs):\n",
    "            shuffled_sample_indices = np.random.permutation(number_of_samples)\n",
    "            number_of_iterations = int(np.ceil(number_of_samples / self.batch_size))\n",
    "            for i in range(number_of_iterations):\n",
    "                sampling_indices = []\n",
    "                for j in range(i * self.batch_size, min(self.batch_size * (i + 1), number_of_samples)):\n",
    "                    sampling_indices.append(shuffled_sample_indices[j])\n",
    "                update = self.optimizer.compute_update(lambda x: self.gradient_of_certain_samples(sampling_indices, x, targets), inputs)\n",
    "                self.network.update_parameters(update)"
   ]
  },
  {
   "cell_type": "code",
   "execution_count": 263,
   "metadata": {},
   "outputs": [],
   "source": [
    "class Momentum(Optimizer):\n",
    "    def __init__(self,gamma = 0.9, eta = 0.1) -> None:\n",
    "        super().__init__()\n",
    "        self.gamma = gamma\n",
    "        self.eta = eta\n",
    "        self.v = 0\n",
    "\n",
    "    def compute_update(self,gradient_computer, x):\n",
    "        g = gradient_computer(x)\n",
    "        self.v = self.gamma*self.v - self.eta*g\n",
    "        return self.v        "
   ]
  },
  {
   "cell_type": "code",
   "execution_count": 264,
   "metadata": {},
   "outputs": [],
   "source": [
    "class NAG(Optimizer):\n",
    "    def __init__(self,gamma = 0.9, eta = 0.1) -> None:\n",
    "        super().__init__()\n",
    "        self.gamma = gamma\n",
    "        self.eta = eta\n",
    "        self.v = 0\n",
    "\n",
    "    def compute_update(self,gradient_computer, x):\n",
    "        g = gradient_computer(x + self.gamma*self.v)\n",
    "        self.v = self.gamma*self.v - self.eta*g\n",
    "        return self.v "
   ]
  },
  {
   "cell_type": "code",
   "execution_count": 265,
   "metadata": {},
   "outputs": [],
   "source": [
    "class Adam(Optimizer):\n",
    "    def __init__(self, beta1 = 0.9, beta2 = 0.99, eta = 0.1, epsilon = 1e-8):\n",
    "        self.beta1 = beta1\n",
    "        self.beta2 = beta2\n",
    "        self.eta = eta\n",
    "        self.epsilon = epsilon\n",
    "        self.t = 1\n",
    "        self.v = 0\n",
    "        self.m = 0\n",
    "    \n",
    "    def compute_update(self, gradient_computer, x):\n",
    "        g = gradient_computer(x)\n",
    "        self.m = self.beta1*self.m + (1 - self.beta1)*g\n",
    "        self.v = self.beta2*self.v + (1 - self.beta2)*(g ** 2)\n",
    "        m_bias = self.m / (1 - self.beta1 ** self.t)\n",
    "        v_bias = self.v / (1 - self.beta2 ** self.t)\n",
    "        self.t += 1\n",
    "        return - self.eta * m_bias / (np.sqrt(np.abs(v_bias)) + self.epsilon)"
   ]
  },
  {
   "cell_type": "markdown",
   "metadata": {},
   "source": [
    "# Tasks"
   ]
  },
  {
   "cell_type": "markdown",
   "metadata": {},
   "source": [
    "\n",
    "    1- Implement all missing functions\n",
    "    2- Build a simple network to learn the sinus function on [-100,100]\n",
    "    3- Use the network to draw the sinus function on [-200,200]"
   ]
  },
  {
   "cell_type": "markdown",
   "metadata": {},
   "source": [
    "# Example"
   ]
  },
  {
   "cell_type": "code",
   "execution_count": 266,
   "metadata": {},
   "outputs": [],
   "source": [
    "def learn_sinus(network, batch_size, epochs, samples):\n",
    "    x = np.linspace(-10, 10, samples)\n",
    "    y = np.sin(x)\n",
    "    plt.subplot(121)\n",
    "    plt.plot(x,y)\n",
    "    x.resize((x.size, 1))\n",
    "    y.resize((y.size, 1))\n",
    "    C = L2Error()\n",
    "    temp = StochasticGradientDescent(Adam(), network, C, 100, 200)\n",
    "    temp(x, y)\n",
    "    x = np.linspace(-10, 10, 2 * samples)\n",
    "    network_vectorized = np.vectorize(network.forward_computation)\n",
    "    y = network_vectorized(x)\n",
    "    plt.subplot(122)\n",
    "    plt.plot(x,y)\n",
    "    plt.show()"
   ]
  },
  {
   "cell_type": "code",
   "execution_count": 267,
   "metadata": {},
   "outputs": [
    {
     "data": {
      "image/png": "[encoded data removed]",
      "text/plain": [
       "<Figure size 640x480 with 2 Axes>"
      ]
     },
     "metadata": {},
     "output_type": "display_data"
    },
    {
     "data": {
      "image/png": "[encoded data removed]",
      "text/plain": [
       "<Figure size 640x480 with 2 Axes>"
      ]
     },
     "metadata": {},
     "output_type": "display_data"
    }
   ],
   "source": [
    "#Two alternatives to learn the sinus function:\n",
    "network = MultilayerPerceptron(1)\n",
    "network.add_dense_layer(16, ReLU())\n",
    "network.add_dense_layer(1, Tanh())\n",
    "learn_sinus(network, batch_size=100, epochs = 200, samples = 100)\n",
    "network = network = MultilayerPerceptron(1)\n",
    "network.add_dense_layer(50, Gaussian())\n",
    "network.add_dense_layer(1, Linear(1))\n",
    "learn_sinus(network, batch_size=50, epochs = 200, samples = 200)"
   ]
  }
 ],
 "metadata": {
  "kernelspec": {
   "display_name": "Python 3",
   "language": "python",
   "name": "python3"
  },
  "language_info": {
   "codemirror_mode": {
    "name": "ipython",
    "version": 3
   },
   "file_extension": ".py",
   "mimetype": "text/x-python",
   "name": "python",
   "nbconvert_exporter": "python",
   "pygments_lexer": "ipython3",
   "version": "3.10.0 (tags/v3.10.0:b494f59, Oct  4 2021, 19:00:18) [MSC v.1929 64 bit (AMD64)]"
  },
  "vscode": {
   "interpreter": {
    "hash": "343dace958b8a4b2eedddd1f44d2ad7e21e06f1ffc3e9750a30a818acd05a175"
   }
  }
 },
 "nbformat": 4,
 "nbformat_minor": 4
}
